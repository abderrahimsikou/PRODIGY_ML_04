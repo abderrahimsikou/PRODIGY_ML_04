{
  "cells": [
    {
      "cell_type": "code",
      "execution_count": 6,
      "metadata": {
        "id": "B54TF4Nkvmai"
      },
      "outputs": [],
      "source": [
        "import numpy as np\n",
        "from keras.preprocessing import image\n",
        "from keras.models import load_model"
      ]
    },
    {
      "cell_type": "code",
      "source": [
        "model = load_model('model.h5')"
      ],
      "metadata": {
        "colab": {
          "base_uri": "https://localhost:8080/"
        },
        "id": "pj4p6GLq6L9x",
        "outputId": "7ab0c035-2b3d-4996-91f5-a37bbb2a952c"
      },
      "execution_count": 7,
      "outputs": [
        {
          "output_type": "stream",
          "name": "stderr",
          "text": [
            "WARNING:absl:Compiled the loaded model, but the compiled metrics have yet to be built. `model.compile_metrics` will be empty until you train or evaluate the model.\n"
          ]
        }
      ]
    },
    {
      "cell_type": "code",
      "source": [
        "test_image = image.load_img('/content/img1.png', target_size=(64,64))\n",
        "test_image =  image.img_to_array(test_image)\n",
        "test_image = np.expand_dims(test_image, axis=0)"
      ],
      "metadata": {
        "id": "BeS-tI876BMA"
      },
      "execution_count": 24,
      "outputs": []
    },
    {
      "cell_type": "code",
      "source": [
        "prediction = model.predict(test_image)\n",
        "prediction_class = np.argmax(prediction, axis=1)[0]\n",
        "\n",
        "if prediction_class == 0:\n",
        "  prediction = '01_palm'\n",
        "elif prediction_class == 1:\n",
        "  prediction = '02_l'\n",
        "elif prediction_class == 2:\n",
        "  prediction = '03_fist'\n",
        "elif prediction_class == 3:\n",
        "  prediction = '04_fist_moved'\n",
        "elif prediction_class == 4:\n",
        "  prediction = '05_thumb'\n",
        "elif prediction_class == 5:\n",
        "  prediction = '06_index'\n",
        "elif prediction_class == 6:\n",
        "  prediction = '07_ok'\n",
        "elif prediction_class == 7:\n",
        "  prediction = '08_palm_moved'\n",
        "elif prediction_class == 8:\n",
        "  prediction = '09_c'\n",
        "else:\n",
        "  prediction = '10_down'\n",
        "\n",
        "print('The hand gesture:', prediction)"
      ],
      "metadata": {
        "colab": {
          "base_uri": "https://localhost:8080/"
        },
        "id": "NUTjf8Rr6XGj",
        "outputId": "f3a5bb9b-185e-42ae-f85a-6a57b27bd7eb"
      },
      "execution_count": 25,
      "outputs": [
        {
          "output_type": "stream",
          "name": "stdout",
          "text": [
            "\u001b[1m1/1\u001b[0m \u001b[32m━━━━━━━━━━━━━━━━━━━━\u001b[0m\u001b[37m\u001b[0m \u001b[1m0s\u001b[0m 126ms/step\n",
            "prediction: 01_palm\n"
          ]
        }
      ]
    }
  ],
  "metadata": {
    "accelerator": "GPU",
    "colab": {
      "gpuType": "T4",
      "provenance": []
    },
    "kernelspec": {
      "display_name": "Python 3",
      "name": "python3"
    },
    "language_info": {
      "name": "python"
    }
  },
  "nbformat": 4,
  "nbformat_minor": 0
}